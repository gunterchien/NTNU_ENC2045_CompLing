{
 "cells": [
  {
   "cell_type": "markdown",
   "metadata": {},
   "source": [
    "# Assignment I: Python Basics"
   ]
  },
  {
   "cell_type": "markdown",
   "metadata": {},
   "source": [
    "In this course, we assume you have basic working knowledge of the language python. Please finish the exercises in this assignment by writing programs in python. All these exercises cover the necessary knowledge needed for more advanced tasks in our course.\n"
   ]
  },
  {
   "cell_type": "markdown",
   "metadata": {},
   "source": [
    "```{note}\n",
    "Please use default modules provided by python and avoid using non-default modules which require additional installation.\n",
    "```"
   ]
  },
  {
   "cell_type": "markdown",
   "metadata": {},
   "source": [
    "\n",
    "## \n",
    "1.1 What are the core default modules available in Python? List down a few of them and explain their functionalities.\n"
   ]
  },
  {
   "cell_type": "markdown",
   "metadata": {
    "tags": [
     "hide-input",
     "hide-output"
    ]
   },
   "source": [
    "```{admonition} Ans\n",
    ":class: tip\n",
    "Answers may vary.\n",
    "```\n"
   ]
  },
  {
   "cell_type": "code",
   "execution_count": 1,
   "metadata": {},
   "outputs": [],
   "source": [
    "# 'math': This module provides access to the mathematical functions.\n",
    "# 'os': This module provides a portable way of using operating system dependent functionality.\n",
    "# 're': This module provides regular expression matching operations."
   ]
  },
  {
   "cell_type": "markdown",
   "metadata": {},
   "source": [
    "## \n",
    "1.2 Assuming that you have not installed the modulel `numpy` in your system. How to install the module?"
   ]
  },
  {
   "cell_type": "code",
   "execution_count": 2,
   "metadata": {},
   "outputs": [
    {
     "name": "stdout",
     "output_type": "stream",
     "text": [
      "Requirement already satisfied: numpy in /Users/gunterchien/anaconda3/lib/python3.11/site-packages (1.24.3)\n",
      "Note: you may need to restart the kernel to use updated packages.\n"
     ]
    }
   ],
   "source": [
    "pip install numpy # installing module 'numpy'"
   ]
  },
  {
   "cell_type": "markdown",
   "metadata": {},
   "source": [
    "## \n",
    "1.3 In Jupyter Notebook, how to get the documentation for the python objects you are working with?"
   ]
  },
  {
   "cell_type": "code",
   "execution_count": 3,
   "metadata": {},
   "outputs": [],
   "source": [
    "# adding a question mark after the function\n",
    "len?\n",
    "\n",
    "## Signature: len(obj, /)\n",
    "## Docstring: Return the number of items in a container.\n",
    "## Type:      builtin_function_or_method"
   ]
  },
  {
   "cell_type": "markdown",
   "metadata": {},
   "source": [
    "# \n",
    "1.4 Demonstrate how to subset and slice a `list` in Python with examples."
   ]
  },
  {
   "cell_type": "code",
   "execution_count": 4,
   "metadata": {},
   "outputs": [
    {
     "name": "stdout",
     "output_type": "stream",
     "text": [
      "1\n",
      "[2, 3, 4]\n",
      "[1, 3, 5]\n"
     ]
    }
   ],
   "source": [
    "# Defining a list\n",
    "a_list = [1, 2, 3, 4, 5]\n",
    "\n",
    "# Subsetting the first element using []\n",
    "a = a_list[0]\n",
    "print(a)\n",
    "\n",
    "# Slicing multiple elements\n",
    "b = a_list[1:4]\n",
    "print(b)\n",
    "\n",
    "# Slicing with steps\n",
    "c = a_list[::2]\n",
    "print(c)"
   ]
  },
  {
   "cell_type": "markdown",
   "metadata": {},
   "source": [
    "## \n",
    "1.5 What are the different ways to generate random numbers? Demonstrate at least the following two ways of random number generation.\n",
    "\n",
    "- Generate a random number between 0 and 1\n",
    "- Generate a random integer between 0 and 100"
   ]
  },
  {
   "cell_type": "code",
   "execution_count": 5,
   "metadata": {},
   "outputs": [
    {
     "name": "stdout",
     "output_type": "stream",
     "text": [
      "0.31355408317684175\n"
     ]
    }
   ],
   "source": [
    "# Generate a random number between 0 and 1\n",
    "import random\n",
    "print(random.random())"
   ]
  },
  {
   "cell_type": "code",
   "execution_count": 6,
   "metadata": {},
   "outputs": [
    {
     "name": "stdout",
     "output_type": "stream",
     "text": [
      "0\n"
     ]
    }
   ],
   "source": [
    "# Generate a random integer between 0 and 100\n",
    "print(random.randint(0, 100))"
   ]
  },
  {
   "cell_type": "markdown",
   "metadata": {},
   "source": [
    "## \n",
    "1.6 A `dict` is provided below. Please demonstrate how to sort the dictionary by (a) its key, and (b) its values in an descending order.\n",
    "\n",
    "```\n",
    "example = {'e':10, 'a':22, 'h':17}\n",
    "```\n",
    "\n",
    "The expected results:\n",
    "\n",
    "```\n",
    "## According to key:\n",
    "[('h', 17), ('e', 10), ('a', 22)]\n",
    "## According to value:\n",
    "[('a', 22), ('h', 17), ('e', 10)]\n",
    "```"
   ]
  },
  {
   "cell_type": "code",
   "execution_count": 7,
   "metadata": {},
   "outputs": [
    {
     "name": "stdout",
     "output_type": "stream",
     "text": [
      "[('h', 17), ('e', 10), ('a', 22)]\n"
     ]
    }
   ],
   "source": [
    "# Sorting according to key\n",
    "example = {'e': 10, 'a': 22, 'h': 17}\n",
    "sorted_by_key = sorted(example.items(), key=lambda x: x[0], reverse=True)\n",
    "print(sorted_by_key)"
   ]
  },
  {
   "cell_type": "code",
   "execution_count": 8,
   "metadata": {},
   "outputs": [
    {
     "name": "stdout",
     "output_type": "stream",
     "text": [
      "[('a', 22), ('h', 17), ('e', 10)]\n"
     ]
    }
   ],
   "source": [
    "# Sorting according to value\n",
    "sorted_by_value = sorted(example.items(), key=lambda x: x[1], reverse=True)\n",
    "print(sorted_by_value)"
   ]
  },
  {
   "cell_type": "markdown",
   "metadata": {},
   "source": [
    "## \n",
    "1.7 How do we remove the duplicate elements from the `list` given below?\n",
    "\n",
    "```\n",
    "words = [‘one’, ‘one’, ‘two’, ‘three’, ‘three’, ‘two’]\n",
    "```\n",
    "\n",
    "The expected output:\n",
    "\n",
    "```\n",
    "['two', 'one', 'three']\n",
    "```"
   ]
  },
  {
   "cell_type": "code",
   "execution_count": 9,
   "metadata": {},
   "outputs": [
    {
     "name": "stdout",
     "output_type": "stream",
     "text": [
      "['one', 'two', 'three']\n"
     ]
    }
   ],
   "source": [
    "words = ['one', 'one', 'two', 'three', 'three', 'two']\n",
    "\n",
    "# Creating an output list\n",
    "output = []\n",
    "\n",
    "# Avoiding appending the same words\n",
    "for word in words:\n",
    "    if word not in output:\n",
    "        output.append(word)\n",
    "    else:\n",
    "        continue\n",
    "print(output)"
   ]
  },
  {
   "cell_type": "markdown",
   "metadata": {},
   "source": [
    "## \n",
    "1.8 How to convert the strings `123` and `456.6` into  numbers?"
   ]
  },
  {
   "cell_type": "code",
   "execution_count": 10,
   "metadata": {},
   "outputs": [
    {
     "name": "stdout",
     "output_type": "stream",
     "text": [
      "123\n",
      "456.6\n"
     ]
    }
   ],
   "source": [
    "# Converting str into int\n",
    "str_a = \"123\"\n",
    "int_a = int(str_a)\n",
    "print(int_a)\n",
    "\n",
    "# Converting str into float\n",
    "str_b = \"456.6\"\n",
    "float_b = float(str_b)\n",
    "print(float_b)"
   ]
  },
  {
   "cell_type": "markdown",
   "metadata": {},
   "source": [
    "## \n",
    "1.9 How to get the full path to the current working directory of your project in Python?\n"
   ]
  },
  {
   "cell_type": "code",
   "execution_count": 11,
   "metadata": {},
   "outputs": [
    {
     "data": {
      "text/plain": [
       "'/Users/gunterchien/Downloads'"
      ]
     },
     "execution_count": 11,
     "metadata": {},
     "output_type": "execute_result"
    }
   ],
   "source": [
    "import os\n",
    "os.getcwd()"
   ]
  },
  {
   "cell_type": "markdown",
   "metadata": {},
   "source": [
    "## \n",
    "1.10 How to get all the names of the files in the current working directory that have the file extension of `.txt`?"
   ]
  },
  {
   "cell_type": "code",
   "execution_count": 12,
   "metadata": {},
   "outputs": [
    {
     "name": "stdout",
     "output_type": "stream",
     "text": [
      "['123.txt']\n"
     ]
    }
   ],
   "source": [
    "import os\n",
    "\n",
    "# List all files and directories in the current directory\n",
    "files = os.listdir(os.getcwd())\n",
    "\n",
    "# Filter .txt files\n",
    "txt_files = [file for file in files if file.endswith('.txt')]\n",
    "\n",
    "print(txt_files)"
   ]
  },
  {
   "cell_type": "markdown",
   "metadata": {},
   "source": [
    "## \n",
    "1.11 Use control structures of `for-loop` and `if-condition` to identify the elements from the `list` below whose values are divisible by 13 but are not a multiple of 5.\n",
    "\n",
    "```\n",
    "numbers = range(100,200)\n",
    "```\n",
    "\n",
    "The expected results:\n",
    "\n",
    "```\n",
    "104\n",
    "117\n",
    "143\n",
    "156\n",
    "169\n",
    "182\n",
    "```\n"
   ]
  },
  {
   "cell_type": "code",
   "execution_count": 13,
   "metadata": {},
   "outputs": [
    {
     "name": "stdout",
     "output_type": "stream",
     "text": [
      "104\n",
      "117\n",
      "143\n",
      "156\n",
      "169\n",
      "182\n"
     ]
    }
   ],
   "source": [
    "numbers = range(100,200)\n",
    "for num in numbers:\n",
    "    if num % 13 == 0 and num % 5 != 0:\n",
    "        print(num)"
   ]
  },
  {
   "cell_type": "markdown",
   "metadata": {},
   "source": [
    "## \n",
    "1.12 To achieve the same goal as specified in the previous [question](question-control), please re-write the script with only one line utilizing the **list comprehension** in python.\n",
    "\n",
    "For example:\n",
    "\n",
    "```\n",
    "numbers = range(100,200)\n",
    "[XXXXXX number XXXXX] # list comprehension\n",
    "```\n",
    "\n",
    "The expected results are as follows:\n",
    "\n",
    "```\n",
    "[104, 117, 143, 156, 169, 182]\n",
    "```"
   ]
  },
  {
   "cell_type": "code",
   "execution_count": 14,
   "metadata": {},
   "outputs": [
    {
     "data": {
      "text/plain": [
       "[104, 117, 143, 156, 169, 182]"
      ]
     },
     "execution_count": 14,
     "metadata": {},
     "output_type": "execute_result"
    }
   ],
   "source": [
    "numbers = range(100,200)\n",
    "[num for num in numbers if num % 13 == 0 and num % 5 != 0] # list comprehension"
   ]
  },
  {
   "cell_type": "markdown",
   "metadata": {},
   "source": [
    "## \n",
    "1.13 Given a `list` of `tuples` as shown below, please sort the `list` according to the second value of the tuples by **descending** order. If the second values are the same, the next sorting criterion is based on the third values of the tuples. Please note that the first value is a string while the rest should be converted to numbers before sorting.\n",
    "\n",
    "The input `list`:\n",
    "\n",
    "```\n",
    "data= [('John', '20', '90'), ('Jony', '17', '91'), ('Jony', '17', '93'), ('Json', '21', '85'), ('Tom', '19', '80')]\n",
    "```\n",
    "\n",
    "The expected results:\n",
    "\n",
    "```\n",
    "[('Json', '21', '85'),\n",
    " ('John', '20', '90'),\n",
    " ('Tom', '19', '80'),\n",
    " ('Jony', '17', '93'),\n",
    " ('Jony', '17', '91')]\n",
    "```"
   ]
  },
  {
   "cell_type": "code",
   "execution_count": 15,
   "metadata": {},
   "outputs": [
    {
     "name": "stdout",
     "output_type": "stream",
     "text": [
      "[('Json', '21', '85'), ('John', '20', '90'), ('Tom', '19', '80'), ('Jony', '17', '93'), ('Jony', '17', '91')]\n"
     ]
    }
   ],
   "source": [
    "data = [('John', '20', '90'), ('Jony', '17', '91'), ('Jony', '17', '93'), ('Json', '21', '85'), ('Tom', '19', '80')]\n",
    "\n",
    "# Sorting by the second (or third) value in descending order\n",
    "sorted_data = sorted(data, key=lambda x: (int(x[1]), int(x[2])), reverse=True)\n",
    "\n",
    "print(sorted_data)"
   ]
  },
  {
   "cell_type": "markdown",
   "metadata": {},
   "source": [
    "## \n",
    "1.14 Define a function which can iterate the numbers, which are divisible by 13, between a given range 0 and n, and print all numbers in one line, separated by commas.\n",
    "\n",
    "Expected outputs of `generateNumbers(100)`:\n",
    "\n",
    "`0,13,26,39,52,65,78,91`\n"
   ]
  },
  {
   "cell_type": "code",
   "execution_count": 16,
   "metadata": {},
   "outputs": [
    {
     "name": "stdout",
     "output_type": "stream",
     "text": [
      "0,13,26,39,52,65,78,91\n"
     ]
    }
   ],
   "source": [
    "def generateNumbers(n):\n",
    "    \n",
    "    # Creating a list for numbers divisible by 13\n",
    "    divisible_by_13 = []\n",
    "    \n",
    "    for num in range(n+1):\n",
    "        if num % 13 == 0:\n",
    "            divisible_by_13.append(str(num))\n",
    "            \n",
    "    # Formatting the output\n",
    "    print(','.join(divisible_by_13))\n",
    "    \n",
    "# Trying the function\n",
    "generateNumbers(100)"
   ]
  },
  {
   "cell_type": "markdown",
   "metadata": {},
   "source": [
    "## \n",
    "1.15 Write a program which accepts the following sequence of words separated by whitespace as input and print the words composed of digits only.\n",
    "\n",
    "```\n",
    "s = '2 cats and 3 dogs.'\n",
    "```\n",
    "\n",
    "The expected output:\n",
    "\n",
    "```\n",
    "['2', '3']\n",
    "```"
   ]
  },
  {
   "cell_type": "code",
   "execution_count": 17,
   "metadata": {},
   "outputs": [
    {
     "data": {
      "text/plain": [
       "['2', '3']"
      ]
     },
     "execution_count": 17,
     "metadata": {},
     "output_type": "execute_result"
    }
   ],
   "source": [
    "def extract_digits(s):\n",
    "    \n",
    "    # Split the string into words\n",
    "    words = s.split()\n",
    "    \n",
    "    # Filter digit words\n",
    "    digit_words = []\n",
    "    for word in words:\n",
    "        if word.isdigit():\n",
    "            digit_words.append(word)\n",
    "    return(digit_words)\n",
    "\n",
    "# Using the function\n",
    "s = '2 cats and 3 dogs.'\n",
    "\n",
    "# Extract and print digit words\n",
    "extract_digits(s)"
   ]
  },
  {
   "cell_type": "markdown",
   "metadata": {},
   "source": [
    "## \n",
    "1.16 Define a function which can compute the sum of two numbers.\n",
    "\n",
    "For example, you define a function `addNums()`:\n",
    "\n",
    "\n",
    "The expected results of `addNums(1,4)`:\n",
    "\n",
    "```\n",
    "5\n",
    "```"
   ]
  },
  {
   "cell_type": "code",
   "execution_count": 18,
   "metadata": {},
   "outputs": [
    {
     "data": {
      "text/plain": [
       "5"
      ]
     },
     "execution_count": 18,
     "metadata": {},
     "output_type": "execute_result"
    }
   ],
   "source": [
    "def addNums(x, y):\n",
    "    return x + y\n",
    "\n",
    "# Using the function\n",
    "addNums(1,4)"
   ]
  },
  {
   "cell_type": "markdown",
   "metadata": {},
   "source": [
    "## \n",
    "1.17 Write a program that accepts as input a long string, where a series of words are separated by commas and prints the words in a comma-separated sequence after sorting them alphabetically.\n",
    "\n",
    "The input long string:\n",
    "\n",
    "```\n",
    "s = \"without,hello,bag,world\"\n",
    "```\n",
    "\n",
    "The expected output:\n",
    "\n",
    "```\n",
    "bag,hello,without,world\n",
    "```"
   ]
  },
  {
   "cell_type": "code",
   "execution_count": 19,
   "metadata": {},
   "outputs": [
    {
     "name": "stdout",
     "output_type": "stream",
     "text": [
      "bag,hello,without,world\n"
     ]
    }
   ],
   "source": [
    "s = \"without,hello,bag,world\"\n",
    "words = s.split(',')  # Spliting the string into a list of words by comma\n",
    "sorted_words = sorted(words)  # Sorting the list of words alphabetically\n",
    "print(','.join(sorted_words))  # Formating the sorted list back into a string with commas"
   ]
  },
  {
   "cell_type": "markdown",
   "metadata": {},
   "source": [
    "## \n",
    "1.18 Write a program that accepts an input string and computes the total number of upper case letters and lower case letters in the entire string.\n",
    "\n",
    "The input string:\n",
    "\n",
    "```\n",
    "\n",
    "s = \"\"\"\n",
    "Hello world!\n",
    "Then, the output should be:\n",
    "UPPER CASE 1\n",
    "LOWER CASE 9\n",
    "\"\"\"\n",
    "```\n",
    "\n",
    "The expected Outputs:\n",
    "\n",
    "```\n",
    "UPPER CASE: 20\n",
    "LOWER CASE: 29\n",
    "```"
   ]
  },
  {
   "cell_type": "code",
   "execution_count": 20,
   "metadata": {},
   "outputs": [
    {
     "name": "stdout",
     "output_type": "stream",
     "text": [
      "UPPER CASE: 20\n",
      "LOWER CASE: 29\n"
     ]
    }
   ],
   "source": [
    "s = \"Hello world! Then, the output should be: UPPER CASE 1 LOWER CASE 9\"\n",
    "\n",
    "def count_num_of_cases(s):\n",
    "    \n",
    "    # Calculating the number of cases\n",
    "    upper_case = sum(1 for char in s if char.isupper())\n",
    "    lower_case = sum(1 for char in s if char.islower())\n",
    "    \n",
    "    # Formating the output\n",
    "    print(f\"UPPER CASE: {upper_case}\")\n",
    "    print(f\"LOWER CASE: {lower_case}\")\n",
    "\n",
    "# Using the function\n",
    "count_num_of_cases(s)"
   ]
  },
  {
   "cell_type": "markdown",
   "metadata": {},
   "source": [
    "## \n",
    "1.19 Explain what the following code chunk is doing in your own words step by step (i.e., line by line). Please paraphrase the scripts as clearly as possible."
   ]
  },
  {
   "cell_type": "code",
   "execution_count": 21,
   "metadata": {},
   "outputs": [
    {
     "data": {
      "text/plain": [
       "[4, 16, 36, 64, 100]"
      ]
     },
     "execution_count": 21,
     "metadata": {},
     "output_type": "execute_result"
    }
   ],
   "source": [
    "li = [1,2,3,4,5,6,7,8,9,10]\n",
    "evenNumbers = map(lambda x: x**2, filter(lambda x: x%2==0, li))\n",
    "[n for n in evenNumbers]\n"
   ]
  },
  {
   "cell_type": "code",
   "execution_count": 22,
   "metadata": {},
   "outputs": [],
   "source": [
    "# The above code chunk first creates a list called 'li'\n",
    "# with integers 1~10 in it. Next, a series of mathematical \n",
    "# calculations is assigned to the variable 'evenNumbers'. \n",
    "# The calculations include filtering even numbers in 'li'\n",
    "# and squaring the even numbers filtered. Finally, the squared\n",
    "# even numbers are iterated by a for-loop to be included in a list \n",
    "# and printed out."
   ]
  },
  {
   "cell_type": "markdown",
   "metadata": {},
   "source": [
    "## \n",
    "1.20 Write a program that accepts a long string and identifies strings that are possibly emails.\n",
    "\n",
    "The input string:\n",
    "\n",
    "```\n",
    "s = \"\"\"\n",
    "This is a short text with example@ntnu.edu.tw emails that we will use as@gmail.com examples. Some emails are complex like alvin-chen@my_domain.org and some sentences do not have any email address, like the emoticon here --> @.@.\n",
    "\"\"\"\n",
    "```\n",
    "\n",
    "The expected output:\n",
    "\n",
    "```\n",
    "['example@ntnu.edu.tw', 'as@gmail.com', 'alvin-chen@my_domain.org']\n",
    "```"
   ]
  },
  {
   "cell_type": "code",
   "execution_count": 23,
   "metadata": {},
   "outputs": [
    {
     "name": "stdout",
     "output_type": "stream",
     "text": [
      "['example@ntnu.edu.tw', 'as@gmail.com', 'alvin-chen@my_domain.org']\n"
     ]
    }
   ],
   "source": [
    "s = \"\"\"\n",
    "This is a short text with example@ntnu.edu.tw emails \n",
    "that we will use as@gmail.com examples. Some emails \n",
    "are complex like alvin-chen@my_domain.org and some \n",
    "sentences do not have any email address, like the emoticon here --> @.@.\n",
    "\"\"\"\n",
    "\n",
    "def emailIdentification(s):\n",
    "    \n",
    "    # Importing the 're' module\n",
    "    import re\n",
    "    \n",
    "    # Regular expression for email matches\n",
    "    email_regex = r'\\b[A-Za-z0-9._%+-]+@[A-Za-z0-9._%+-]+\\.[A-Z|a-z]{2,}\\b'\n",
    "    return re.findall(email_regex, s)\n",
    "\n",
    "# Using the function to find email matches\n",
    "print(emailIdentification(s))"
   ]
  }
 ],
 "metadata": {
  "kernelspec": {
   "display_name": "Python 3 (ipykernel)",
   "language": "python",
   "name": "python3"
  },
  "language_info": {
   "codemirror_mode": {
    "name": "ipython",
    "version": 3
   },
   "file_extension": ".py",
   "mimetype": "text/x-python",
   "name": "python",
   "nbconvert_exporter": "python",
   "pygments_lexer": "ipython3",
   "version": "3.11.4"
  },
  "toc": {
   "base_numbering": 1,
   "nav_menu": {},
   "number_sections": true,
   "sideBar": true,
   "skip_h1_title": false,
   "title_cell": "Table of Contents",
   "title_sidebar": "Contents",
   "toc_cell": false,
   "toc_position": {},
   "toc_section_display": true,
   "toc_window_display": true
  },
  "varInspector": {
   "cols": {
    "lenName": 16,
    "lenType": 16,
    "lenVar": 40
   },
   "kernels_config": {
    "python": {
     "delete_cmd_postfix": "",
     "delete_cmd_prefix": "del ",
     "library": "var_list.py",
     "varRefreshCmd": "print(var_dic_list())"
    },
    "r": {
     "delete_cmd_postfix": ") ",
     "delete_cmd_prefix": "rm(",
     "library": "var_list.r",
     "varRefreshCmd": "cat(var_dic_list()) "
    }
   },
   "types_to_exclude": [
    "module",
    "function",
    "builtin_function_or_method",
    "instance",
    "_Feature"
   ],
   "window_display": false
  }
 },
 "nbformat": 4,
 "nbformat_minor": 4
}
